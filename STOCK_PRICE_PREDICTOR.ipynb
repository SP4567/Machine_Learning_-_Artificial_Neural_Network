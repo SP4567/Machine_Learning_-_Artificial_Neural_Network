{
  "nbformat": 4,
  "nbformat_minor": 0,
  "metadata": {
    "colab": {
      "provenance": []
    },
    "kernelspec": {
      "name": "python3",
      "display_name": "Python 3"
    },
    "language_info": {
      "name": "python"
    },
    "accelerator": "GPU",
    "gpuClass": "standard"
  },
  "cells": [
    {
      "cell_type": "code",
      "source": [
        "import numpy as np\n",
        "import pandas as pd\n",
        "import matplotlib.pyplot as plt\n",
        "import seaborn as sns\n",
        "import tensorflow as tf\n",
        "st = pd.read_csv('/content/Tata_Motors_Stock_Data - TATAMOTORS.NS .csv')\n",
        "st.head(10)\n",
        "st.info()\n",
        "st.describe()"
      ],
      "metadata": {
        "colab": {
          "base_uri": "https://localhost:8080/",
          "height": 543
        },
        "id": "fMWzUxTL8YRm",
        "outputId": "c9034a0b-a434-4944-c92d-ac9ecc7cfe15"
      },
      "execution_count": null,
      "outputs": [
        {
          "output_type": "stream",
          "name": "stdout",
          "text": [
            "<class 'pandas.core.frame.DataFrame'>\n",
            "RangeIndex: 249 entries, 0 to 248\n",
            "Data columns (total 7 columns):\n",
            " #   Column     Non-Null Count  Dtype  \n",
            "---  ------     --------------  -----  \n",
            " 0   Date       249 non-null    object \n",
            " 1   Open       249 non-null    float64\n",
            " 2   High       249 non-null    float64\n",
            " 3   Low        249 non-null    float64\n",
            " 4   Close      249 non-null    float64\n",
            " 5   Adj Close  249 non-null    float64\n",
            " 6   Volume     249 non-null    int64  \n",
            "dtypes: float64(5), int64(1), object(1)\n",
            "memory usage: 13.7+ KB\n"
          ]
        },
        {
          "output_type": "execute_result",
          "data": {
            "text/plain": [
              "             Open        High         Low       Close   Adj Close  \\\n",
              "count  249.000000  249.000000  249.000000  249.000000  249.000000   \n",
              "mean   428.279719  433.013455  422.194378  427.199999  427.199999   \n",
              "std     22.645788   22.791886   22.811019   23.045489   23.045489   \n",
              "min    380.250000  384.649994  366.200012  372.299988  372.299988   \n",
              "25%    411.899994  417.299988  406.149994  411.700012  411.700012   \n",
              "50%    428.799988  434.950012  423.649994  427.950012  427.950012   \n",
              "75%    443.950012  447.250000  436.250000  442.000000  442.000000   \n",
              "max    490.899994  494.399994  484.200012  489.850006  489.850006   \n",
              "\n",
              "             Volume  \n",
              "count  2.490000e+02  \n",
              "mean   1.721530e+07  \n",
              "std    1.036854e+07  \n",
              "min    2.871205e+06  \n",
              "25%    1.098752e+07  \n",
              "50%    1.436204e+07  \n",
              "75%    1.912591e+07  \n",
              "max    7.142575e+07  "
            ],
            "text/html": [
              "\n",
              "  <div id=\"df-cb32605b-4d68-4d1b-adce-25be439189df\">\n",
              "    <div class=\"colab-df-container\">\n",
              "      <div>\n",
              "<style scoped>\n",
              "    .dataframe tbody tr th:only-of-type {\n",
              "        vertical-align: middle;\n",
              "    }\n",
              "\n",
              "    .dataframe tbody tr th {\n",
              "        vertical-align: top;\n",
              "    }\n",
              "\n",
              "    .dataframe thead th {\n",
              "        text-align: right;\n",
              "    }\n",
              "</style>\n",
              "<table border=\"1\" class=\"dataframe\">\n",
              "  <thead>\n",
              "    <tr style=\"text-align: right;\">\n",
              "      <th></th>\n",
              "      <th>Open</th>\n",
              "      <th>High</th>\n",
              "      <th>Low</th>\n",
              "      <th>Close</th>\n",
              "      <th>Adj Close</th>\n",
              "      <th>Volume</th>\n",
              "    </tr>\n",
              "  </thead>\n",
              "  <tbody>\n",
              "    <tr>\n",
              "      <th>count</th>\n",
              "      <td>249.000000</td>\n",
              "      <td>249.000000</td>\n",
              "      <td>249.000000</td>\n",
              "      <td>249.000000</td>\n",
              "      <td>249.000000</td>\n",
              "      <td>2.490000e+02</td>\n",
              "    </tr>\n",
              "    <tr>\n",
              "      <th>mean</th>\n",
              "      <td>428.279719</td>\n",
              "      <td>433.013455</td>\n",
              "      <td>422.194378</td>\n",
              "      <td>427.199999</td>\n",
              "      <td>427.199999</td>\n",
              "      <td>1.721530e+07</td>\n",
              "    </tr>\n",
              "    <tr>\n",
              "      <th>std</th>\n",
              "      <td>22.645788</td>\n",
              "      <td>22.791886</td>\n",
              "      <td>22.811019</td>\n",
              "      <td>23.045489</td>\n",
              "      <td>23.045489</td>\n",
              "      <td>1.036854e+07</td>\n",
              "    </tr>\n",
              "    <tr>\n",
              "      <th>min</th>\n",
              "      <td>380.250000</td>\n",
              "      <td>384.649994</td>\n",
              "      <td>366.200012</td>\n",
              "      <td>372.299988</td>\n",
              "      <td>372.299988</td>\n",
              "      <td>2.871205e+06</td>\n",
              "    </tr>\n",
              "    <tr>\n",
              "      <th>25%</th>\n",
              "      <td>411.899994</td>\n",
              "      <td>417.299988</td>\n",
              "      <td>406.149994</td>\n",
              "      <td>411.700012</td>\n",
              "      <td>411.700012</td>\n",
              "      <td>1.098752e+07</td>\n",
              "    </tr>\n",
              "    <tr>\n",
              "      <th>50%</th>\n",
              "      <td>428.799988</td>\n",
              "      <td>434.950012</td>\n",
              "      <td>423.649994</td>\n",
              "      <td>427.950012</td>\n",
              "      <td>427.950012</td>\n",
              "      <td>1.436204e+07</td>\n",
              "    </tr>\n",
              "    <tr>\n",
              "      <th>75%</th>\n",
              "      <td>443.950012</td>\n",
              "      <td>447.250000</td>\n",
              "      <td>436.250000</td>\n",
              "      <td>442.000000</td>\n",
              "      <td>442.000000</td>\n",
              "      <td>1.912591e+07</td>\n",
              "    </tr>\n",
              "    <tr>\n",
              "      <th>max</th>\n",
              "      <td>490.899994</td>\n",
              "      <td>494.399994</td>\n",
              "      <td>484.200012</td>\n",
              "      <td>489.850006</td>\n",
              "      <td>489.850006</td>\n",
              "      <td>7.142575e+07</td>\n",
              "    </tr>\n",
              "  </tbody>\n",
              "</table>\n",
              "</div>\n",
              "      <button class=\"colab-df-convert\" onclick=\"convertToInteractive('df-cb32605b-4d68-4d1b-adce-25be439189df')\"\n",
              "              title=\"Convert this dataframe to an interactive table.\"\n",
              "              style=\"display:none;\">\n",
              "        \n",
              "  <svg xmlns=\"http://www.w3.org/2000/svg\" height=\"24px\"viewBox=\"0 0 24 24\"\n",
              "       width=\"24px\">\n",
              "    <path d=\"M0 0h24v24H0V0z\" fill=\"none\"/>\n",
              "    <path d=\"M18.56 5.44l.94 2.06.94-2.06 2.06-.94-2.06-.94-.94-2.06-.94 2.06-2.06.94zm-11 1L8.5 8.5l.94-2.06 2.06-.94-2.06-.94L8.5 2.5l-.94 2.06-2.06.94zm10 10l.94 2.06.94-2.06 2.06-.94-2.06-.94-.94-2.06-.94 2.06-2.06.94z\"/><path d=\"M17.41 7.96l-1.37-1.37c-.4-.4-.92-.59-1.43-.59-.52 0-1.04.2-1.43.59L10.3 9.45l-7.72 7.72c-.78.78-.78 2.05 0 2.83L4 21.41c.39.39.9.59 1.41.59.51 0 1.02-.2 1.41-.59l7.78-7.78 2.81-2.81c.8-.78.8-2.07 0-2.86zM5.41 20L4 18.59l7.72-7.72 1.47 1.35L5.41 20z\"/>\n",
              "  </svg>\n",
              "      </button>\n",
              "      \n",
              "  <style>\n",
              "    .colab-df-container {\n",
              "      display:flex;\n",
              "      flex-wrap:wrap;\n",
              "      gap: 12px;\n",
              "    }\n",
              "\n",
              "    .colab-df-convert {\n",
              "      background-color: #E8F0FE;\n",
              "      border: none;\n",
              "      border-radius: 50%;\n",
              "      cursor: pointer;\n",
              "      display: none;\n",
              "      fill: #1967D2;\n",
              "      height: 32px;\n",
              "      padding: 0 0 0 0;\n",
              "      width: 32px;\n",
              "    }\n",
              "\n",
              "    .colab-df-convert:hover {\n",
              "      background-color: #E2EBFA;\n",
              "      box-shadow: 0px 1px 2px rgba(60, 64, 67, 0.3), 0px 1px 3px 1px rgba(60, 64, 67, 0.15);\n",
              "      fill: #174EA6;\n",
              "    }\n",
              "\n",
              "    [theme=dark] .colab-df-convert {\n",
              "      background-color: #3B4455;\n",
              "      fill: #D2E3FC;\n",
              "    }\n",
              "\n",
              "    [theme=dark] .colab-df-convert:hover {\n",
              "      background-color: #434B5C;\n",
              "      box-shadow: 0px 1px 3px 1px rgba(0, 0, 0, 0.15);\n",
              "      filter: drop-shadow(0px 1px 2px rgba(0, 0, 0, 0.3));\n",
              "      fill: #FFFFFF;\n",
              "    }\n",
              "  </style>\n",
              "\n",
              "      <script>\n",
              "        const buttonEl =\n",
              "          document.querySelector('#df-cb32605b-4d68-4d1b-adce-25be439189df button.colab-df-convert');\n",
              "        buttonEl.style.display =\n",
              "          google.colab.kernel.accessAllowed ? 'block' : 'none';\n",
              "\n",
              "        async function convertToInteractive(key) {\n",
              "          const element = document.querySelector('#df-cb32605b-4d68-4d1b-adce-25be439189df');\n",
              "          const dataTable =\n",
              "            await google.colab.kernel.invokeFunction('convertToInteractive',\n",
              "                                                     [key], {});\n",
              "          if (!dataTable) return;\n",
              "\n",
              "          const docLinkHtml = 'Like what you see? Visit the ' +\n",
              "            '<a target=\"_blank\" href=https://colab.research.google.com/notebooks/data_table.ipynb>data table notebook</a>'\n",
              "            + ' to learn more about interactive tables.';\n",
              "          element.innerHTML = '';\n",
              "          dataTable['output_type'] = 'display_data';\n",
              "          await google.colab.output.renderOutput(dataTable, element);\n",
              "          const docLink = document.createElement('div');\n",
              "          docLink.innerHTML = docLinkHtml;\n",
              "          element.appendChild(docLink);\n",
              "        }\n",
              "      </script>\n",
              "    </div>\n",
              "  </div>\n",
              "  "
            ]
          },
          "metadata": {},
          "execution_count": 2
        }
      ]
    },
    {
      "cell_type": "code",
      "source": [
        "X_train = st['Open']\n",
        "y_train = st['Close']\n",
        "plt.scatter(X_train, y_train, color = 'blue')\n",
        "plt.xlabel(\"Open\")\n",
        "plt.ylabel(\"Close\")\n",
        "plt.title(\"graph between open and close\")"
      ],
      "metadata": {
        "colab": {
          "base_uri": "https://localhost:8080/",
          "height": 489
        },
        "id": "Af5WyycQ9MX3",
        "outputId": "9c5ee24c-58d3-4922-cce9-6a1946cb42dc"
      },
      "execution_count": null,
      "outputs": [
        {
          "output_type": "execute_result",
          "data": {
            "text/plain": [
              "Text(0.5, 1.0, 'graph between open and close')"
            ]
          },
          "metadata": {},
          "execution_count": 5
        },
        {
          "output_type": "display_data",
          "data": {
            "text/plain": [
              "<Figure size 640x480 with 1 Axes>"
            ],
            "image/png": "[encoded data removed]"
          },
          "metadata": {}
        }
      ]
    },
    {
      "cell_type": "code",
      "source": [
        "model = tf.keras.Sequential()\n",
        "model.add(tf.keras.layers.Dense(units = 1, input_shape = [1]))"
      ],
      "metadata": {
        "id": "yhywtTQo-oGE"
      },
      "execution_count": null,
      "outputs": []
    },
    {
      "cell_type": "code",
      "source": [
        "model.compile(optimizer = tf.keras.optimizers.Adam(1), loss = 'mean_squared_error')\n",
        "epochs_hist = model.fit(X_train, y_train, epochs = 100)\n",
        "epochs_hist.history.keys"
      ],
      "metadata": {
        "colab": {
          "base_uri": "https://localhost:8080/"
        },
        "id": "GNeUIfh4_ars",
        "outputId": "78b9b9a3-2564-4cf6-c018-3f184e74654a"
      },
      "execution_count": null,
      "outputs": [
        {
          "output_type": "stream",
          "name": "stdout",
          "text": [
            "Epoch 1/100\n",
            "8/8 [==============================] - 5s 3ms/step - loss: 45763.3828\n",
            "Epoch 2/100\n",
            "8/8 [==============================] - 0s 3ms/step - loss: 20578.6016\n",
            "Epoch 3/100\n",
            "8/8 [==============================] - 0s 3ms/step - loss: 6765.4771\n",
            "Epoch 4/100\n",
            "8/8 [==============================] - 0s 3ms/step - loss: 3841.4336\n",
            "Epoch 5/100\n",
            "8/8 [==============================] - 0s 3ms/step - loss: 1518.2264\n",
            "Epoch 6/100\n",
            "8/8 [==============================] - 0s 3ms/step - loss: 931.0743\n",
            "Epoch 7/100\n",
            "8/8 [==============================] - 0s 3ms/step - loss: 371.0531\n",
            "Epoch 8/100\n",
            "8/8 [==============================] - 0s 3ms/step - loss: 218.7343\n",
            "Epoch 9/100\n",
            "8/8 [==============================] - 0s 3ms/step - loss: 148.7202\n",
            "Epoch 10/100\n",
            "8/8 [==============================] - 0s 3ms/step - loss: 71.3224\n",
            "Epoch 11/100\n",
            "8/8 [==============================] - 0s 3ms/step - loss: 48.0018\n",
            "Epoch 12/100\n",
            "8/8 [==============================] - 0s 3ms/step - loss: 46.8688\n",
            "Epoch 13/100\n",
            "8/8 [==============================] - 0s 3ms/step - loss: 56.1063\n",
            "Epoch 14/100\n",
            "8/8 [==============================] - 0s 3ms/step - loss: 51.9872\n",
            "Epoch 15/100\n",
            "8/8 [==============================] - 0s 3ms/step - loss: 52.2610\n",
            "Epoch 16/100\n",
            "8/8 [==============================] - 0s 3ms/step - loss: 60.2707\n",
            "Epoch 17/100\n",
            "8/8 [==============================] - 0s 3ms/step - loss: 57.4291\n",
            "Epoch 18/100\n",
            "8/8 [==============================] - 0s 3ms/step - loss: 67.5161\n",
            "Epoch 19/100\n",
            "8/8 [==============================] - 0s 3ms/step - loss: 54.1811\n",
            "Epoch 20/100\n",
            "8/8 [==============================] - 0s 3ms/step - loss: 52.8160\n",
            "Epoch 21/100\n",
            "8/8 [==============================] - 0s 3ms/step - loss: 52.3530\n",
            "Epoch 22/100\n",
            "8/8 [==============================] - 0s 3ms/step - loss: 67.2301\n",
            "Epoch 23/100\n",
            "8/8 [==============================] - 0s 3ms/step - loss: 78.7804\n",
            "Epoch 24/100\n",
            "8/8 [==============================] - 0s 3ms/step - loss: 52.9231\n",
            "Epoch 25/100\n",
            "8/8 [==============================] - 0s 3ms/step - loss: 47.5270\n",
            "Epoch 26/100\n",
            "8/8 [==============================] - 0s 3ms/step - loss: 50.0071\n",
            "Epoch 27/100\n",
            "8/8 [==============================] - 0s 3ms/step - loss: 49.0597\n",
            "Epoch 28/100\n",
            "8/8 [==============================] - 0s 3ms/step - loss: 50.4741\n",
            "Epoch 29/100\n",
            "8/8 [==============================] - 0s 3ms/step - loss: 59.5236\n",
            "Epoch 30/100\n",
            "8/8 [==============================] - 0s 3ms/step - loss: 55.0522\n",
            "Epoch 31/100\n",
            "8/8 [==============================] - 0s 3ms/step - loss: 53.7656\n",
            "Epoch 32/100\n",
            "8/8 [==============================] - 0s 3ms/step - loss: 54.0651\n",
            "Epoch 33/100\n",
            "8/8 [==============================] - 0s 3ms/step - loss: 50.9380\n",
            "Epoch 34/100\n",
            "8/8 [==============================] - 0s 3ms/step - loss: 57.8702\n",
            "Epoch 35/100\n",
            "8/8 [==============================] - 0s 3ms/step - loss: 58.1935\n",
            "Epoch 36/100\n",
            "8/8 [==============================] - 0s 3ms/step - loss: 49.3663\n",
            "Epoch 37/100\n",
            "8/8 [==============================] - 0s 3ms/step - loss: 50.2319\n",
            "Epoch 38/100\n",
            "8/8 [==============================] - 0s 3ms/step - loss: 48.5741\n",
            "Epoch 39/100\n",
            "8/8 [==============================] - 0s 3ms/step - loss: 49.4476\n",
            "Epoch 40/100\n",
            "8/8 [==============================] - 0s 4ms/step - loss: 60.2447\n",
            "Epoch 41/100\n",
            "8/8 [==============================] - 0s 3ms/step - loss: 53.6023\n",
            "Epoch 42/100\n",
            "8/8 [==============================] - 0s 3ms/step - loss: 51.0400\n",
            "Epoch 43/100\n",
            "8/8 [==============================] - 0s 3ms/step - loss: 50.2931\n",
            "Epoch 44/100\n",
            "8/8 [==============================] - 0s 3ms/step - loss: 52.4890\n",
            "Epoch 45/100\n",
            "8/8 [==============================] - 0s 3ms/step - loss: 67.8139\n",
            "Epoch 46/100\n",
            "8/8 [==============================] - 0s 3ms/step - loss: 61.1455\n",
            "Epoch 47/100\n",
            "8/8 [==============================] - 0s 3ms/step - loss: 53.9468\n",
            "Epoch 48/100\n",
            "8/8 [==============================] - 0s 3ms/step - loss: 58.4858\n",
            "Epoch 49/100\n",
            "8/8 [==============================] - 0s 3ms/step - loss: 67.8729\n",
            "Epoch 50/100\n",
            "8/8 [==============================] - 0s 4ms/step - loss: 58.9891\n",
            "Epoch 51/100\n",
            "8/8 [==============================] - 0s 3ms/step - loss: 61.2769\n",
            "Epoch 52/100\n",
            "8/8 [==============================] - 0s 3ms/step - loss: 52.3609\n",
            "Epoch 53/100\n",
            "8/8 [==============================] - 0s 3ms/step - loss: 61.2457\n",
            "Epoch 54/100\n",
            "8/8 [==============================] - 0s 3ms/step - loss: 72.2183\n",
            "Epoch 55/100\n",
            "8/8 [==============================] - 0s 3ms/step - loss: 54.3111\n",
            "Epoch 56/100\n",
            "8/8 [==============================] - 0s 3ms/step - loss: 64.4790\n",
            "Epoch 57/100\n",
            "8/8 [==============================] - 0s 3ms/step - loss: 70.0646\n",
            "Epoch 58/100\n",
            "8/8 [==============================] - 0s 4ms/step - loss: 63.0231\n",
            "Epoch 59/100\n",
            "8/8 [==============================] - 0s 3ms/step - loss: 47.3447\n",
            "Epoch 60/100\n",
            "8/8 [==============================] - 0s 3ms/step - loss: 61.0234\n",
            "Epoch 61/100\n",
            "8/8 [==============================] - 0s 3ms/step - loss: 100.0458\n",
            "Epoch 62/100\n",
            "8/8 [==============================] - 0s 3ms/step - loss: 89.8011\n",
            "Epoch 63/100\n",
            "8/8 [==============================] - 0s 2ms/step - loss: 84.1301\n",
            "Epoch 64/100\n",
            "8/8 [==============================] - 0s 3ms/step - loss: 52.3246\n",
            "Epoch 65/100\n",
            "8/8 [==============================] - 0s 3ms/step - loss: 48.5677\n",
            "Epoch 66/100\n",
            "8/8 [==============================] - 0s 3ms/step - loss: 60.0749\n",
            "Epoch 67/100\n",
            "8/8 [==============================] - 0s 3ms/step - loss: 92.3564\n",
            "Epoch 68/100\n",
            "8/8 [==============================] - 0s 3ms/step - loss: 107.5540\n",
            "Epoch 69/100\n",
            "8/8 [==============================] - 0s 3ms/step - loss: 84.1722\n",
            "Epoch 70/100\n",
            "8/8 [==============================] - 0s 2ms/step - loss: 82.6566\n",
            "Epoch 71/100\n",
            "8/8 [==============================] - 0s 3ms/step - loss: 90.1913\n",
            "Epoch 72/100\n",
            "8/8 [==============================] - 0s 3ms/step - loss: 67.5909\n",
            "Epoch 73/100\n",
            "8/8 [==============================] - 0s 3ms/step - loss: 71.2607\n",
            "Epoch 74/100\n",
            "8/8 [==============================] - 0s 3ms/step - loss: 55.0417\n",
            "Epoch 75/100\n",
            "8/8 [==============================] - 0s 3ms/step - loss: 57.5842\n",
            "Epoch 76/100\n",
            "8/8 [==============================] - 0s 3ms/step - loss: 68.0616\n",
            "Epoch 77/100\n",
            "8/8 [==============================] - 0s 3ms/step - loss: 63.8512\n",
            "Epoch 78/100\n",
            "8/8 [==============================] - 0s 3ms/step - loss: 48.9440\n",
            "Epoch 79/100\n",
            "8/8 [==============================] - 0s 4ms/step - loss: 64.3911\n",
            "Epoch 80/100\n",
            "8/8 [==============================] - 0s 5ms/step - loss: 58.7140\n",
            "Epoch 81/100\n",
            "8/8 [==============================] - 0s 4ms/step - loss: 63.8465\n",
            "Epoch 82/100\n",
            "8/8 [==============================] - 0s 4ms/step - loss: 52.1558\n",
            "Epoch 83/100\n",
            "8/8 [==============================] - 0s 4ms/step - loss: 63.9368\n",
            "Epoch 84/100\n",
            "8/8 [==============================] - 0s 4ms/step - loss: 102.0807\n",
            "Epoch 85/100\n",
            "8/8 [==============================] - 0s 4ms/step - loss: 105.1627\n",
            "Epoch 86/100\n",
            "8/8 [==============================] - 0s 4ms/step - loss: 59.7917\n",
            "Epoch 87/100\n",
            "8/8 [==============================] - 0s 3ms/step - loss: 50.1685\n",
            "Epoch 88/100\n",
            "8/8 [==============================] - 0s 4ms/step - loss: 58.7421\n",
            "Epoch 89/100\n",
            "8/8 [==============================] - 0s 4ms/step - loss: 54.2933\n",
            "Epoch 90/100\n",
            "8/8 [==============================] - 0s 4ms/step - loss: 65.7326\n",
            "Epoch 91/100\n",
            "8/8 [==============================] - 0s 5ms/step - loss: 53.3344\n",
            "Epoch 92/100\n",
            "8/8 [==============================] - 0s 4ms/step - loss: 48.7658\n",
            "Epoch 93/100\n",
            "8/8 [==============================] - 0s 4ms/step - loss: 49.1097\n",
            "Epoch 94/100\n",
            "8/8 [==============================] - 0s 4ms/step - loss: 48.1849\n",
            "Epoch 95/100\n",
            "8/8 [==============================] - 0s 4ms/step - loss: 50.9671\n",
            "Epoch 96/100\n",
            "8/8 [==============================] - 0s 4ms/step - loss: 61.3685\n",
            "Epoch 97/100\n",
            "8/8 [==============================] - 0s 4ms/step - loss: 59.3409\n",
            "Epoch 98/100\n",
            "8/8 [==============================] - 0s 4ms/step - loss: 49.0025\n",
            "Epoch 99/100\n",
            "8/8 [==============================] - 0s 3ms/step - loss: 51.3154\n",
            "Epoch 100/100\n",
            "8/8 [==============================] - 0s 4ms/step - loss: 49.5302\n"
          ]
        },
        {
          "output_type": "execute_result",
          "data": {
            "text/plain": [
              "<function dict.keys>"
            ]
          },
          "metadata": {},
          "execution_count": 7
        }
      ]
    },
    {
      "cell_type": "code",
      "source": [
        "plt.plot(epochs_hist.history['loss'])\n",
        "plt.title('Loss while predicting the stock price')\n",
        "plt.xlabel('epochs')\n",
        "plt.ylabel('Training Loss')\n",
        "plt.legend('training losS')"
      ],
      "metadata": {
        "colab": {
          "base_uri": "https://localhost:8080/",
          "height": 489
        },
        "id": "syZLgyJSBhLi",
        "outputId": "3ed5cf31-e719-4a02-d70e-47da08ac0d7d"
      },
      "execution_count": null,
      "outputs": [
        {
          "output_type": "execute_result",
          "data": {
            "text/plain": [
              "<matplotlib.legend.Legend at 0x7fb85a4d8310>"
            ]
          },
          "metadata": {},
          "execution_count": 8
        },
        {
          "output_type": "display_data",
          "data": {
            "text/plain": [
              "<Figure size 640x480 with 1 Axes>"
            ],
            "image/png": "[encoded data removed]"
          },
          "metadata": {}
        }
      ]
    },
    {
      "cell_type": "code",
      "source": [
        "model.get_weights()"
      ],
      "metadata": {
        "colab": {
          "base_uri": "https://localhost:8080/"
        },
        "id": "hA1dG4aTCmMz",
        "outputId": "3e7dd8de-ddb1-49b0-9bbe-2ab601812233"
      },
      "execution_count": null,
      "outputs": [
        {
          "output_type": "execute_result",
          "data": {
            "text/plain": [
              "[array([[0.9966384]], dtype=float32), array([0.7471026], dtype=float32)]"
            ]
          },
          "metadata": {},
          "execution_count": 9
        }
      ]
    },
    {
      "cell_type": "code",
      "source": [
        "open = 445\n",
        "close = model.predict([open])\n",
        "print(\"predicted close value is: \", close)"
      ],
      "metadata": {
        "colab": {
          "base_uri": "https://localhost:8080/"
        },
        "id": "rCpyrFVDDORE",
        "outputId": "faa2e359-550c-43fc-a12c-1eb95f491f4f"
      },
      "execution_count": null,
      "outputs": [
        {
          "output_type": "stream",
          "name": "stdout",
          "text": [
            "1/1 [==============================] - 0s 74ms/step\n",
            "predicted close value is:  [[444.2512]]\n"
          ]
        }
      ]
    },
    {
      "cell_type": "code",
      "source": [
        "from sklearn.linear_model import LinearRegression\n",
        "model2 = model\n",
        "model2.score(X_train, y_train)"
      ],
      "metadata": {
        "id": "QBGz2XP8D0Yn",
        "colab": {
          "base_uri": "https://localhost:8080/",
          "height": 200
        },
        "outputId": "0ee1d30c-4b64-4e05-fc87-c2c4a6ad30a9"
      },
      "execution_count": null,
      "outputs": [
        {
          "output_type": "error",
          "ename": "AttributeError",
          "evalue": "ignored",
          "traceback": [
            "\u001b[0;31m---------------------------------------------------------------------------\u001b[0m",
            "\u001b[0;31mAttributeError\u001b[0m                            Traceback (most recent call last)",
            "\u001b[0;32m<ipython-input-15-34b6749d2654>\u001b[0m in \u001b[0;36m<cell line: 3>\u001b[0;34m()\u001b[0m\n\u001b[1;32m      1\u001b[0m \u001b[0;32mfrom\u001b[0m \u001b[0msklearn\u001b[0m\u001b[0;34m.\u001b[0m\u001b[0mlinear_model\u001b[0m \u001b[0;32mimport\u001b[0m \u001b[0mLinearRegression\u001b[0m\u001b[0;34m\u001b[0m\u001b[0;34m\u001b[0m\u001b[0m\n\u001b[1;32m      2\u001b[0m \u001b[0mmodel2\u001b[0m \u001b[0;34m=\u001b[0m \u001b[0mmodel\u001b[0m\u001b[0;34m\u001b[0m\u001b[0;34m\u001b[0m\u001b[0m\n\u001b[0;32m----> 3\u001b[0;31m \u001b[0mmodel2\u001b[0m\u001b[0;34m.\u001b[0m\u001b[0mscore\u001b[0m\u001b[0;34m(\u001b[0m\u001b[0mX_train\u001b[0m\u001b[0;34m,\u001b[0m \u001b[0my_train\u001b[0m\u001b[0;34m)\u001b[0m\u001b[0;34m\u001b[0m\u001b[0;34m\u001b[0m\u001b[0m\n\u001b[0m",
            "\u001b[0;31mAttributeError\u001b[0m: 'Sequential' object has no attribute 'score'"
          ]
        }
      ]
    },
    {
      "cell_type": "code",
      "source": [],
      "metadata": {
        "id": "hiFClCAmwTIL"
      },
      "execution_count": null,
      "outputs": []
    }
  ]
}