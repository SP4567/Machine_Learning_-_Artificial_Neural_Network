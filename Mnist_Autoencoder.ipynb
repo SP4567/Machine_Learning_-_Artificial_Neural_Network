{
  "nbformat": 4,
  "nbformat_minor": 0,
  "metadata": {
    "colab": {
      "provenance": []
    },
    "kernelspec": {
      "name": "python3",
      "display_name": "Python 3"
    },
    "language_info": {
      "name": "python"
    }
  },
  "cells": [
    {
      "cell_type": "code",
      "execution_count": 24,
      "metadata": {
        "id": "YsJsNDfeElK9"
      },
      "outputs": [],
      "source": [
        "import numpy as np\n",
        "import pandas as pd\n",
        "import matplotlib.pyplot as plt\n",
        "import tensorflow as tf\n",
        "from tensorflow.keras.datasets import mnist\n",
        "from sklearn.preprocessing import MinMaxScaler"
      ]
    },
    {
      "cell_type": "code",
      "source": [
        "(X_train,y_train), (X_test, y_test) = mnist.load_data()"
      ],
      "metadata": {
        "id": "mofnbIzlFImy"
      },
      "execution_count": 25,
      "outputs": []
    },
    {
      "cell_type": "code",
      "source": [
        "print(X_train.shape)\n",
        "print(X_test.shape)\n",
        "print(y_train.shape)\n",
        "print(y_test.shape)"
      ],
      "metadata": {
        "colab": {
          "base_uri": "https://localhost:8080/"
        },
        "id": "H_KYbyyrFgk3",
        "outputId": "8c9c9d6e-4698-4ab9-93d4-9636fd9ff4b6"
      },
      "execution_count": 26,
      "outputs": [
        {
          "output_type": "stream",
          "name": "stdout",
          "text": [
            "(60000, 28, 28)\n",
            "(10000, 28, 28)\n",
            "(60000,)\n",
            "(10000,)\n"
          ]
        }
      ]
    },
    {
      "cell_type": "code",
      "source": [
        "X_train = X_train/255\n",
        "X_test = X_test/255"
      ],
      "metadata": {
        "id": "cGk-7UxtFw8n"
      },
      "execution_count": 27,
      "outputs": []
    },
    {
      "cell_type": "code",
      "source": [
        "from tensorflow.keras.models import Sequential\n",
        "from tensorflow.keras.layers import Dense, Flatten, Reshape\n",
        "from tensorflow.keras.optimizers import SGD"
      ],
      "metadata": {
        "id": "W3QdKjxoF22v"
      },
      "execution_count": 28,
      "outputs": []
    },
    {
      "cell_type": "code",
      "source": [
        "X_train[0].shape"
      ],
      "metadata": {
        "colab": {
          "base_uri": "https://localhost:8080/"
        },
        "id": "o-cP1DGtF8ov",
        "outputId": "12e96dd7-30de-43d1-8d6d-208f11b4ed58"
      },
      "execution_count": 29,
      "outputs": [
        {
          "output_type": "execute_result",
          "data": {
            "text/plain": [
              "(28, 28)"
            ]
          },
          "metadata": {},
          "execution_count": 29
        }
      ]
    },
    {
      "cell_type": "code",
      "source": [
        "encoder = Sequential()\n",
        "encoder.add(Flatten(input_shape = [28, 28]))\n",
        "encoder.add(Dense(400, activation = 'relu'))\n",
        "encoder.add(Dense(200, activation = 'relu'))\n",
        "encoder.add(Dense(100, activation = 'relu'))\n",
        "encoder.add(Dense(50, activation = 'relu'))\n",
        "encoder.add(Dense(25, activation = 'relu'))"
      ],
      "metadata": {
        "id": "nwcAROTOGRJ3"
      },
      "execution_count": 30,
      "outputs": []
    },
    {
      "cell_type": "code",
      "source": [
        "decoder = Sequential()\n",
        "decoder.add(Dense(50, input_shape = [25], activation = 'relu'))\n",
        "decoder.add(Dense(100, activation = 'relu'))\n",
        "decoder.add(Dense(200, activation = 'relu'))\n",
        "decoder.add(Dense(400, activation = 'relu'))\n",
        "decoder.add(Dense(784, activation = 'sigmoid'))\n",
        "decoder.add(Reshape([28,28]))"
      ],
      "metadata": {
        "id": "qj76IlhIGxH2"
      },
      "execution_count": 31,
      "outputs": []
    },
    {
      "cell_type": "code",
      "source": [
        "autoencoder = Sequential([encoder, decoder])\n",
        "autoencoder.compile(loss = 'binary_crossentropy', optimizer = SGD(learning_rate = 1.5), metrics = ['accuracy'])"
      ],
      "metadata": {
        "id": "nyiZh2AlILFt"
      },
      "execution_count": 32,
      "outputs": []
    },
    {
      "cell_type": "code",
      "source": [
        "autoencoder.fit(X_train, X_train, epochs = 10, validation_data = [X_test, X_test])"
      ],
      "metadata": {
        "colab": {
          "base_uri": "https://localhost:8080/"
        },
        "id": "2HDv_zLgI0E8",
        "outputId": "22d7ce7a-cf2a-48f8-dfde-897ff13afaaf"
      },
      "execution_count": 33,
      "outputs": [
        {
          "output_type": "stream",
          "name": "stdout",
          "text": [
            "Epoch 1/10\n",
            "1875/1875 [==============================] - 11s 6ms/step - loss: 0.2496 - accuracy: 0.0867 - val_loss: 0.2083 - val_accuracy: 0.1251\n",
            "Epoch 2/10\n",
            "1875/1875 [==============================] - 11s 6ms/step - loss: 0.1885 - accuracy: 0.1544 - val_loss: 0.1744 - val_accuracy: 0.1766\n",
            "Epoch 3/10\n",
            "1875/1875 [==============================] - 11s 6ms/step - loss: 0.1690 - accuracy: 0.1837 - val_loss: 0.1572 - val_accuracy: 0.1948\n",
            "Epoch 4/10\n",
            "1875/1875 [==============================] - 11s 6ms/step - loss: 0.1518 - accuracy: 0.2052 - val_loss: 0.1497 - val_accuracy: 0.2058\n",
            "Epoch 5/10\n",
            "1875/1875 [==============================] - 11s 6ms/step - loss: 0.1427 - accuracy: 0.2183 - val_loss: 0.1376 - val_accuracy: 0.2252\n",
            "Epoch 6/10\n",
            "1875/1875 [==============================] - 11s 6ms/step - loss: 0.1364 - accuracy: 0.2265 - val_loss: 0.1322 - val_accuracy: 0.2303\n",
            "Epoch 7/10\n",
            "1875/1875 [==============================] - 11s 6ms/step - loss: 0.1319 - accuracy: 0.2339 - val_loss: 0.1286 - val_accuracy: 0.2343\n",
            "Epoch 8/10\n",
            "1875/1875 [==============================] - 11s 6ms/step - loss: 0.1289 - accuracy: 0.2383 - val_loss: 0.1255 - val_accuracy: 0.2394\n",
            "Epoch 9/10\n",
            "1875/1875 [==============================] - 11s 6ms/step - loss: 0.1263 - accuracy: 0.2418 - val_loss: 0.1337 - val_accuracy: 0.2293\n",
            "Epoch 10/10\n",
            "1875/1875 [==============================] - 12s 6ms/step - loss: 0.1237 - accuracy: 0.2447 - val_loss: 0.1217 - val_accuracy: 0.2537\n"
          ]
        },
        {
          "output_type": "execute_result",
          "data": {
            "text/plain": [
              "<keras.src.callbacks.History at 0x7e8198717670>"
            ]
          },
          "metadata": {},
          "execution_count": 33
        }
      ]
    },
    {
      "cell_type": "code",
      "source": [
        "passed_images = autoencoder.predict(X_test[:10])"
      ],
      "metadata": {
        "colab": {
          "base_uri": "https://localhost:8080/"
        },
        "id": "9x9T1kFPJMWN",
        "outputId": "8c83a799-aece-4090-aca3-10b6afdf1ef3"
      },
      "execution_count": 34,
      "outputs": [
        {
          "output_type": "stream",
          "name": "stdout",
          "text": [
            "1/1 [==============================] - 0s 101ms/step\n"
          ]
        }
      ]
    },
    {
      "cell_type": "code",
      "source": [
        "n = 5\n",
        "print(\"Original Image\")\n",
        "plt.imshow(X_test[n])\n",
        "plt.show()\n",
        "print(\"Attempted Rconstruction (after autoencoder)\")\n",
        "plt.imshow(passed_images[n])"
      ],
      "metadata": {
        "colab": {
          "base_uri": "https://localhost:8080/",
          "height": 895
        },
        "id": "EjgxDB9HLGTr",
        "outputId": "71d08140-86d4-476a-d813-7686e1a70630"
      },
      "execution_count": 40,
      "outputs": [
        {
          "output_type": "stream",
          "name": "stdout",
          "text": [
            "Original Image\n"
          ]
        },
        {
          "output_type": "display_data",
          "data": {
            "text/plain": [
              "<Figure size 640x480 with 1 Axes>"
            ],
            "image/png": "[encoded data removed]"
          },
          "metadata": {}
        },
        {
          "output_type": "stream",
          "name": "stdout",
          "text": [
            "Attempted Rconstruction (after autoencoder)\n"
          ]
        },
        {
          "output_type": "execute_result",
          "data": {
            "text/plain": [
              "<matplotlib.image.AxesImage at 0x7e81944fada0>"
            ]
          },
          "metadata": {},
          "execution_count": 40
        },
        {
          "output_type": "display_data",
          "data": {
            "text/plain": [
              "<Figure size 640x480 with 1 Axes>"
            ],
            "image/png": "[encoded data removed]"
          },
          "metadata": {}
        }
      ]
    },
    {
      "cell_type": "code",
      "source": [
        "from tensorflow.keras.layers import GaussianNoise"
      ],
      "metadata": {
        "id": "8Oy8QmAELkLZ"
      },
      "execution_count": 41,
      "outputs": []
    },
    {
      "cell_type": "code",
      "source": [
        "sample = GaussianNoise(0.2)"
      ],
      "metadata": {
        "id": "oANbRi5nSFzS"
      },
      "execution_count": 42,
      "outputs": []
    },
    {
      "cell_type": "code",
      "source": [
        "noisey = sample(X_test[:10], training = True)"
      ],
      "metadata": {
        "id": "lFQ73YuaSKKB"
      },
      "execution_count": 43,
      "outputs": []
    },
    {
      "cell_type": "code",
      "source": [
        "n = 4\n",
        "print(\"Original\")\n",
        "plt.imshow(X_test[n])\n",
        "plt.show()\n",
        "print(\"Noisey\")\n",
        "plt.imshow(noisey[n])\n",
        "plt.show()"
      ],
      "metadata": {
        "colab": {
          "base_uri": "https://localhost:8080/",
          "height": 878
        },
        "id": "qEdtb2bjSSLy",
        "outputId": "0a8f6b98-55ae-4396-bdef-f71e71606eac"
      },
      "execution_count": 46,
      "outputs": [
        {
          "output_type": "stream",
          "name": "stdout",
          "text": [
            "Original\n"
          ]
        },
        {
          "output_type": "display_data",
          "data": {
            "text/plain": [
              "<Figure size 640x480 with 1 Axes>"
            ],
            "image/png": "[encoded data removed]"
          },
          "metadata": {}
        },
        {
          "output_type": "stream",
          "name": "stdout",
          "text": [
            "Noisey\n"
          ]
        },
        {
          "output_type": "display_data",
          "data": {
            "text/plain": [
              "<Figure size 640x480 with 1 Axes>"
            ],
            "image/png": "[encoded data removed]"
          },
          "metadata": {}
        }
      ]
    },
    {
      "cell_type": "code",
      "source": [
        "tf.random.set_seed(101)\n",
        "np.random.seed(101)\n",
        "encoder = Sequential()\n",
        "encoder.add(Flatten(input_shape = [28, 28]))\n",
        "encoder.add(GaussianNoise(0.2))\n",
        "encoder.add(Dense(400, activation = 'relu'))\n",
        "encoder.add(Dense(200, activation = 'relu'))\n",
        "encoder.add(Dense(100, activation = 'relu'))\n",
        "encoder.add(Dense(50, activation = 'relu'))\n",
        "encoder.add(Dense(25, activation = 'relu'))"
      ],
      "metadata": {
        "id": "YgxkQYBoSoKZ"
      },
      "execution_count": 47,
      "outputs": []
    },
    {
      "cell_type": "code",
      "source": [
        "decoder = Sequential()\n",
        "decoder.add(Dense(50, input_shape = [25], activation = 'relu'))\n",
        "decoder.add(Dense(100, activation = 'relu'))\n",
        "decoder.add(Dense(200, activation = 'relu'))\n",
        "decoder.add(Dense(400, activation = 'relu'))\n",
        "decoder.add(Dense(784, activation = 'sigmoid'))\n",
        "decoder.add(Reshape([28,28]))"
      ],
      "metadata": {
        "id": "bex4h2u6TLa5"
      },
      "execution_count": 48,
      "outputs": []
    },
    {
      "cell_type": "code",
      "source": [
        "noise_remover = Sequential([encoder, decoder])"
      ],
      "metadata": {
        "id": "jpBUW90BTWBA"
      },
      "execution_count": 49,
      "outputs": []
    },
    {
      "cell_type": "code",
      "source": [
        "noise_remover.compile(loss = 'binary_crossentropy', optimizer = 'adam', metrics = ['accuracy'])"
      ],
      "metadata": {
        "id": "Xc-BEJcYTfm4"
      },
      "execution_count": 50,
      "outputs": []
    },
    {
      "cell_type": "code",
      "source": [
        "noise_remover.fit(X_train, X_train, epochs = 8)"
      ],
      "metadata": {
        "colab": {
          "base_uri": "https://localhost:8080/"
        },
        "id": "xjtztxffTxFf",
        "outputId": "398f84f8-0552-4a3b-8bf0-4c85418be904"
      },
      "execution_count": 51,
      "outputs": [
        {
          "output_type": "stream",
          "name": "stdout",
          "text": [
            "Epoch 1/8\n",
            "1875/1875 [==============================] - 16s 8ms/step - loss: 0.1683 - accuracy: 0.1853\n",
            "Epoch 2/8\n",
            "1875/1875 [==============================] - 14s 7ms/step - loss: 0.1298 - accuracy: 0.2323\n",
            "Epoch 3/8\n",
            "1875/1875 [==============================] - 15s 8ms/step - loss: 0.1212 - accuracy: 0.2461\n",
            "Epoch 4/8\n",
            "1875/1875 [==============================] - 14s 8ms/step - loss: 0.1168 - accuracy: 0.2543\n",
            "Epoch 5/8\n",
            "1875/1875 [==============================] - 15s 8ms/step - loss: 0.1131 - accuracy: 0.2601\n",
            "Epoch 6/8\n",
            "1875/1875 [==============================] - 15s 8ms/step - loss: 0.1105 - accuracy: 0.2654\n",
            "Epoch 7/8\n",
            "1875/1875 [==============================] - 14s 8ms/step - loss: 0.1082 - accuracy: 0.2693\n",
            "Epoch 8/8\n",
            "1875/1875 [==============================] - 14s 7ms/step - loss: 0.1064 - accuracy: 0.2724\n"
          ]
        },
        {
          "output_type": "execute_result",
          "data": {
            "text/plain": [
              "<keras.src.callbacks.History at 0x7e81ab23f940>"
            ]
          },
          "metadata": {},
          "execution_count": 51
        }
      ]
    },
    {
      "cell_type": "code",
      "source": [
        "ten_noisey_images = sample(X_test[:10], training = True)"
      ],
      "metadata": {
        "id": "1gkeRwfHT7z_"
      },
      "execution_count": 52,
      "outputs": []
    },
    {
      "cell_type": "code",
      "source": [
        "denoised = noise_remover(ten_noisey_images)"
      ],
      "metadata": {
        "id": "n343h6JMVJrI"
      },
      "execution_count": 53,
      "outputs": []
    },
    {
      "cell_type": "code",
      "source": [
        "n = 0\n",
        "print(\"ORIGINAL IMAGES\")\n",
        "plt.imshow(X_test[n])\n",
        "plt.show()\n",
        "print(\"NOISE ADDED IMAGE\")\n",
        "plt.imshow(ten_noisey_images[n])\n",
        "plt.show()\n",
        "print(\"AFTER NOISE REMOVAL FROM AUTOENCODER\")\n",
        "plt.imshow(denoised[n])\n",
        "plt.show()"
      ],
      "metadata": {
        "colab": {
          "base_uri": "https://localhost:8080/",
          "height": 1000
        },
        "id": "Y03H6wCsVOjW",
        "outputId": "f5eabfb7-e67c-407e-90b3-ad8e6b1da707"
      },
      "execution_count": 54,
      "outputs": [
        {
          "output_type": "stream",
          "name": "stdout",
          "text": [
            "ORIGINAL IMAGES\n"
          ]
        },
        {
          "output_type": "display_data",
          "data": {
            "text/plain": [
              "<Figure size 640x480 with 1 Axes>"
            ],
            "image/png": "[encoded data removed]"
          },
          "metadata": {}
        },
        {
          "output_type": "stream",
          "name": "stdout",
          "text": [
            "NOISE ADDED IMAGE\n"
          ]
        },
        {
          "output_type": "display_data",
          "data": {
            "text/plain": [
              "<Figure size 640x480 with 1 Axes>"
            ],
            "image/png": "[encoded data removed]"
          },
          "metadata": {}
        },
        {
          "output_type": "stream",
          "name": "stdout",
          "text": [
            "AFTER NOISE REMOVAL FROM AUTOENCODER\n"
          ]
        },
        {
          "output_type": "display_data",
          "data": {
            "text/plain": [
              "<Figure size 640x480 with 1 Axes>"
            ],
            "image/png": "[encoded data removed]"
          },
          "metadata": {}
        }
      ]
    },
    {
      "cell_type": "code",
      "source": [],
      "metadata": {
        "id": "KJd6GsyLV4V-"
      },
      "execution_count": null,
      "outputs": []
    }
  ]
}